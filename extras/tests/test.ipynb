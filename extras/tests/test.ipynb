{
 "cells": [
  {
   "cell_type": "code",
   "execution_count": null,
   "metadata": {},
   "outputs": [],
   "source": [
    "# print(\n",
    "#     f'Time: {_time}\\n'\n",
    "#     f'Display Speed: {state.display_speed}\\n'\n",
    "#     f'Position: {state.position}\\n'\n",
    "#     f'Velocity: {state.velocity}\\n'\n",
    "#     f'YPW: {state.yaw_pitch_roll}\\n'\n",
    "#     # f'state player info0: {state.player_info[0]}\\n'\n",
    "#     # f'state player info1: {state.player_info[1]}\\n's\n",
    "#     f'state player race finished: {state.player_info.race_finished}\\n'\n",
    "#     # f'state wheels: {state.simulation_wheels}\\n'\n",
    "#     f'state wheels 0 steerable: {state.simulation_wheels[0].steerable}\\n'\n",
    "#     f'state wheels 0 has_ground_contact: {state.simulation_wheels[0].real_time_state.has_ground_contact}\\n'\n",
    "#     f'state wheels 0 is_sliding: {state.simulation_wheels[0].real_time_state.is_sliding}\\n'\n",
    "#     f'state scene_mobil has_any_lateral_contact: {state.scene_mobil.has_any_lateral_contact}\\n'\n",
    "#     f'state scene_mobil turning_rate: {state.scene_mobil.turning_rate}\\n'\n",
    "#     f'state scene_mobil is_freewheeling: {state.scene_mobil.is_freewheeling}\\n'\n",
    "#     f'state scene_mobil is_sliding : {state.scene_mobil}\\n'\n",
    "# , end='\\r')\n",
    "\n",
    "# print(f'Speed: {state.display_speed}, turning rate : {state.scene_mobil.turning_rate}', end='\\r')"
   ]
  },
  {
   "cell_type": "code",
   "execution_count": 2,
   "metadata": {},
   "outputs": [
    {
     "data": {
      "text/plain": [
       "[1, 4, 7, 10]"
      ]
     },
     "execution_count": 2,
     "metadata": {},
     "output_type": "execute_result"
    }
   ],
   "source": [
    "liste = [1, 2, 3, 4, 5, 6, 7, 8, 9, 10]\n",
    "liste[::3]"
   ]
  },
  {
   "cell_type": "code",
   "execution_count": null,
   "metadata": {},
   "outputs": [],
   "source": [
    "if self.previous_position is None:\n",
    "    self.previous_position = position\n",
    "else:\n",
    "    angle = math.atan2(position[2] - self.previous_position[2], position[0] - self.previous_position[0])\n",
    "    angle2 = math.atan2(position[0] - self.previous_position[0], position[2] - self.previous_position[2])\n",
    "    print(f'Angle: {angle}, angle2: {angle2}', end='\\r')"
   ]
  }
 ],
 "metadata": {
  "kernelspec": {
   "display_name": "Python 3",
   "language": "python",
   "name": "python3"
  },
  "language_info": {
   "codemirror_mode": {
    "name": "ipython",
    "version": 3
   },
   "file_extension": ".py",
   "mimetype": "text/x-python",
   "name": "python",
   "nbconvert_exporter": "python",
   "pygments_lexer": "ipython3",
   "version": "3.10.1"
  }
 },
 "nbformat": 4,
 "nbformat_minor": 2
}
