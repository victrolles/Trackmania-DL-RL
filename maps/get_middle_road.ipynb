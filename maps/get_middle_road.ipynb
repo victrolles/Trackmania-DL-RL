{
 "cells": [
  {
   "cell_type": "code",
   "execution_count": 1,
   "metadata": {},
   "outputs": [],
   "source": [
    "import matplotlib.pyplot as plt\n",
    "import pandas as pd\n",
    "import csv\n",
    "import math\n",
    "import json"
   ]
  },
  {
   "cell_type": "code",
   "execution_count": 2,
   "metadata": {},
   "outputs": [],
   "source": [
    "# For each point of the road on the left side, find the closest point on the right side\n",
    "def get_middle_point(coordinates: tuple, list_coordinates: list[tuple]):\n",
    "    min_distance = 100000\n",
    "    closest_point = None\n",
    "\n",
    "    for temp_coordinates in list_coordinates:\n",
    "        distance = ((coordinates[0] - temp_coordinates[0]) ** 2 + (coordinates[1] - temp_coordinates[1]) ** 2) ** 0.5\n",
    "        if distance < min_distance:\n",
    "            min_distance = distance\n",
    "            closest_point = temp_coordinates\n",
    "\n",
    "            # get midlle of coordinates and closest point\n",
    "            x_middle = (coordinates[0] + closest_point[0]) / 2\n",
    "            y_middle = (coordinates[1] + closest_point[1]) / 2\n",
    "            middle_point = (x_middle, y_middle)\n",
    "\n",
    "\n",
    "    return middle_point"
   ]
  },
  {
   "cell_type": "code",
   "execution_count": 3,
   "metadata": {},
   "outputs": [],
   "source": [
    "## Get the corrdinates of the points in the middle of the road\n",
    "## And save them in a csv file\n",
    "folder = 'snake_map_training'\n",
    "\n",
    "# Read the coordinates of the left and right side of the road from csv files\n",
    "left_side_road_coordinates = pd.read_csv(f'{folder}/road_left.csv')\n",
    "right_side_road_coordinates = pd.read_csv(f'{folder}/road_right.csv')\n",
    "\n",
    "# Convert the dataframes to lists\n",
    "right_side_list_coordinates = list(zip(right_side_road_coordinates.x_values, right_side_road_coordinates.y_values))\n",
    "left_side_list_coordinates = list(zip(left_side_road_coordinates.x_values, left_side_road_coordinates.y_values))\n",
    "\n",
    "# Initialize the list of the coordinates of the points in the middle of the road\n",
    "middle_side_list_coordinates = []\n",
    "\n",
    "# For each point of the road on the left side, find the closest point on the right side\n",
    "for points in left_side_list_coordinates:\n",
    "    middle_point = get_middle_point(points, right_side_list_coordinates)\n",
    "    middle_side_list_coordinates.append(middle_point)\n",
    "\n",
    "# Save the coordinates of the points in the middle of the road in a csv file\n",
    "with open('RL_map_training/road_middle.csv', 'w', newline='') as file:\n",
    "    writer = csv.writer(file)\n",
    "    writer.writerow(['x_values', 'y_values'])\n",
    "    writer.writerows(middle_side_list_coordinates)"
   ]
  },
  {
   "cell_type": "code",
   "execution_count": 4,
   "metadata": {},
   "outputs": [
    {
     "name": "stderr",
     "output_type": "stream",
     "text": [
      "C:\\Users\\vigou\\AppData\\Local\\Temp\\ipykernel_13700\\976545198.py:8: SettingWithCopyWarning: \n",
      "A value is trying to be set on a copy of a slice from a DataFrame.\n",
      "Try using .loc[row_indexer,col_indexer] = value instead\n",
      "\n",
      "See the caveats in the documentation: https://pandas.pydata.org/pandas-docs/stable/user_guide/indexing.html#returning-a-view-versus-a-copy\n",
      "  df_modified.y_values = 560.0\n"
     ]
    }
   ],
   "source": [
    "## remove error line in the beginning of the track\n",
    "\n",
    "# Read the coordinates of the points in the middle of the road from csv file\n",
    "df = pd.read_csv('RL_map_training/road_middle.csv')\n",
    "\n",
    "# Replace the y values of the first 16 points with 560.0\n",
    "df_modified = df.iloc[16:260]\n",
    "df_modified.y_values = 560.0\n",
    "df_final = pd.concat([df.iloc[:16], df_modified, df.iloc[260:]])\n",
    "\n",
    "# Save the coordinates of the points in the middle of the road in a csv file\n",
    "df_final.to_csv('RL_map_training/road_middle.csv', index=False)\n"
   ]
  },
  {
   "cell_type": "code",
   "execution_count": 5,
   "metadata": {},
   "outputs": [
    {
     "name": "stdout",
     "output_type": "stream",
     "text": [
      "5435\n",
      "604\n"
     ]
    }
   ],
   "source": [
    "# From the middle road, remove some points to reduce the size of the csv file\n",
    "df = pd.read_csv('RL_map_training/road_middle.csv')\n",
    "print(len(df))\n",
    "df_modified = df.iloc[::9]\n",
    "print(len(df_modified))\n",
    "df_modified.to_csv('RL_map_training/road_middle.csv', index=False)"
   ]
  },
  {
   "cell_type": "code",
   "execution_count": 6,
   "metadata": {},
   "outputs": [
    {
     "ename": "IndexError",
     "evalue": "list index out of range",
     "output_type": "error",
     "traceback": [
      "\u001b[1;31m---------------------------------------------------------------------------\u001b[0m",
      "\u001b[1;31mIndexError\u001b[0m                                Traceback (most recent call last)",
      "Cell \u001b[1;32mIn[6], line 48\u001b[0m\n\u001b[0;32m     43\u001b[0m     json\u001b[38;5;241m.\u001b[39mdump(init, file)\n\u001b[0;32m     45\u001b[0m \u001b[38;5;28;01mfor\u001b[39;00m idx, point \u001b[38;5;129;01min\u001b[39;00m \u001b[38;5;28menumerate\u001b[39m(list_coordinates[\u001b[38;5;241m1\u001b[39m:]):\n\u001b[0;32m     46\u001b[0m \n\u001b[0;32m     47\u001b[0m     \u001b[38;5;66;03m# Compute the distance between the current point and the next turn point\u001b[39;00m\n\u001b[1;32m---> 48\u001b[0m     distance \u001b[38;5;241m=\u001b[39m math\u001b[38;5;241m.\u001b[39msqrt((\u001b[43mlist_next_turn_point\u001b[49m\u001b[43m[\u001b[49m\u001b[43midx_section\u001b[49m\u001b[38;5;241;43m+\u001b[39;49m\u001b[38;5;241;43m1\u001b[39;49m\u001b[43m]\u001b[49m[\u001b[38;5;241m0\u001b[39m] \u001b[38;5;241m-\u001b[39m point[\u001b[38;5;241m0\u001b[39m])\u001b[38;5;241m*\u001b[39m\u001b[38;5;241m*\u001b[39m\u001b[38;5;241m2\u001b[39m \u001b[38;5;241m+\u001b[39m (list_next_turn_point[idx_section\u001b[38;5;241m+\u001b[39m\u001b[38;5;241m1\u001b[39m][\u001b[38;5;241m1\u001b[39m] \u001b[38;5;241m-\u001b[39m point[\u001b[38;5;241m1\u001b[39m])\u001b[38;5;241m*\u001b[39m\u001b[38;5;241m*\u001b[39m\u001b[38;5;241m2\u001b[39m)\n\u001b[0;32m     50\u001b[0m     \u001b[38;5;66;03m# If the new distance is longer than the minimum distance, we can save and pass to the next section\u001b[39;00m\n\u001b[0;32m     51\u001b[0m     \u001b[38;5;66;03m# because we reach the closest point and we are now going away from it\u001b[39;00m\n\u001b[0;32m     52\u001b[0m     \u001b[38;5;28;01mif\u001b[39;00m (distance \u001b[38;5;241m>\u001b[39m  min_distance) \u001b[38;5;129;01mor\u001b[39;00m (idx \u001b[38;5;241m==\u001b[39m \u001b[38;5;28mlen\u001b[39m(list_coordinates) \u001b[38;5;241m-\u001b[39m \u001b[38;5;241m2\u001b[39m):\n",
      "\u001b[1;31mIndexError\u001b[0m: list index out of range"
     ]
    }
   ],
   "source": [
    "## create a dictionary .json file\n",
    "## road_section\n",
    "# next_turn_point\n",
    "# direction_turn\n",
    "# closest_middle_point\n",
    "# list_middle_points\n",
    "\n",
    "# Load the list of all the middle points of the road\n",
    "df = pd.read_csv('RL_map_training/road_middle.csv')\n",
    "list_coordinates = list(zip(df.x_values, df.y_values))\n",
    "\n",
    "# Load the list of all the road sections - human made\n",
    "list_next_turn_point = [\n",
    "    [329.5, 560.0],\n",
    "    [484.0, 560.0],\n",
    "    [526.7, 514.5],\n",
    "    [528.1, 444.6],\n",
    "    [478.3, 400.5],\n",
    "    [430.7, 453.4],\n",
    "    [386.7, 496.1],\n",
    "    [335.5, 449.8],\n",
    "    [335.5, 382.1],\n",
    "    [387.7, 336.4],\n",
    "    [548.3, 336.4],\n",
    "    [591.6, 387.2],\n",
    "    [648.6, 432.8]\n",
    "]\n",
    "\n",
    "# Load the list of all the road sections - human made\n",
    "# 1: right, -1: left, 0: straight\n",
    "list_direction_turn = [0, -1, 0, -1, -1, 1, 1, 0, 1, 0, 1, -1]\n",
    "\n",
    "idx_section = 0\n",
    "min_distance = 1000\n",
    "list_coordinates_section = []\n",
    "list_road_section = []\n",
    "\n",
    "# Init json file\n",
    "init = {\n",
    "    \"road_sections\": []\n",
    "}\n",
    "with open(\"RL_map_training/dict.json\", \"w\") as file: \n",
    "    json.dump(init, file)\n",
    "\n",
    "for idx, point in enumerate(list_coordinates[1:]):\n",
    "\n",
    "    # Compute the distance between the current point and the next turn point\n",
    "    distance = math.sqrt((list_next_turn_point[idx_section+1][0] - point[0])**2 + (list_next_turn_point[idx_section+1][1] - point[1])**2)\n",
    "\n",
    "    # If the new distance is longer than the minimum distance, we can save and pass to the next section\n",
    "    # because we reach the closest point and we are now going away from it\n",
    "    if (distance >  min_distance) or (idx == len(list_coordinates) - 2):\n",
    "        list_coordinates_section.append(point)\n",
    "        # Save the section\n",
    "        road_section = {\n",
    "            'next_turn_point': list_next_turn_point[idx_section],\n",
    "            'direction_turn': list_direction_turn[idx_section],\n",
    "            'list_middle_points': list_coordinates_section,\n",
    "        }\n",
    "        with open('RL_map_training/dict.json', \"r+\") as json_file:\n",
    "            file_data  = json.load(json_file)\n",
    "            file_data['road_sections'].append(road_section)\n",
    "            # Sets file's current position at offset.\n",
    "            json_file.seek(0)\n",
    "            json.dump(file_data, json_file, indent = 4)\n",
    "\n",
    "        # Reset the variables\n",
    "        idx_section += 1\n",
    "        min_distance = 1000\n",
    "        list_coordinates_section = []\n",
    "        continue\n",
    "\n",
    "    # Update the minimum distance and the list of coordinates of the section\n",
    "    if distance < min_distance:\n",
    "        min_distance = distance\n",
    "        list_coordinates_section.append(point)\n"
   ]
  },
  {
   "cell_type": "code",
   "execution_count": null,
   "metadata": {},
   "outputs": [
    {
     "name": "stdout",
     "output_type": "stream",
     "text": [
      "Number of coordinates not found:  0\n"
     ]
    }
   ],
   "source": [
    "# Verify is all the coordinates in the csv file are in the list of middle points of a section in the json file\n",
    "df = pd.read_csv('RL_map_training/road_middle.csv')\n",
    "list_coordinates = list(zip(df.x_values, df.y_values))\n",
    "\n",
    "with open('RL_map_training/dict.json', \"r\") as json_file:\n",
    "    file_data  = json.load(json_file)\n",
    "\n",
    "is_found = False\n",
    "coor_not_found = 0\n",
    "for idx, coordinate in enumerate(list_coordinates):\n",
    "\n",
    "    # Check if the coordinate is in the list of middle points of a section\n",
    "    for idx_section, section in enumerate(file_data[\"road_sections\"]):\n",
    "        if list(coordinate) in section[\"list_middle_points\"]:\n",
    "            is_found = True\n",
    "            break\n",
    "\n",
    "    # result\n",
    "    if is_found:\n",
    "        # print(\"Coordinate found in section: \", idx_section)\n",
    "        is_found = False\n",
    "    else:\n",
    "        print(\"Coordinate not found: \", idx)\n",
    "        coor_not_found += 1\n",
    "\n",
    "print(\"Number of coordinates not found: \", coor_not_found)"
   ]
  },
  {
   "cell_type": "code",
   "execution_count": 10,
   "metadata": {},
   "outputs": [
    {
     "data": {
      "image/png": "[encoded data removed]",
      "text/plain": [
       "<Figure size 640x480 with 1 Axes>"
      ]
     },
     "metadata": {},
     "output_type": "display_data"
    }
   ],
   "source": [
    "## Plot the road with all the information from the json file\n",
    "\n",
    "left_side_road_coordinates = pd.read_csv(f'{folder}/road_left.csv')\n",
    "right_side_road_coordinates = pd.read_csv(f'{folder}/road_right.csv')\n",
    "\n",
    "# with open(f'{folder}/dict.json', \"r\") as json_file:\n",
    "#     file_data  = json.load(json_file)\n",
    "\n",
    "# file_data[\"road_sections\"][0][\"list_middle_points\"]\n",
    "\n",
    "# convert a list of list of 2 coordinates x and y to 2 lists, one with x and one with y\n",
    "def convert_list_to_2_lists(list_of_list):\n",
    "    x_values = []\n",
    "    y_values = []\n",
    "    for coordinates in list_of_list:\n",
    "        x_values.append(coordinates[0])\n",
    "        y_values.append(coordinates[1])\n",
    "    return x_values, y_values\n",
    "\n",
    "\n",
    "fig, ax = plt.subplots()\n",
    "\n",
    "ax.plot(left_side_road_coordinates.x_values, left_side_road_coordinates.y_values, color='black', label='left_side')\n",
    "ax.plot(right_side_road_coordinates.x_values, right_side_road_coordinates.y_values, color='black', label='right_side')\n",
    "\n",
    "# for idx, road_section in enumerate(file_data[\"road_sections\"]):\n",
    "\n",
    "#     # convert a list of list of 2 coordinates x and y to 2 lists, one with x and one with y\n",
    "#     x_values, y_values = convert_list_to_2_lists(road_section[\"list_middle_points\"])\n",
    "\n",
    "#     # Change color between sections\n",
    "#     if idx % 2 == 0:\n",
    "#         color='orange'\n",
    "#     else:\n",
    "#         color='blue'\n",
    "\n",
    "#     # Create the label of the section\n",
    "#     label = 'mid_'\n",
    "#     if road_section[\"direction_turn\"] == 1:\n",
    "#         label += 'right_'\n",
    "#     elif road_section[\"direction_turn\"] == -1:\n",
    "#         label += 'left_'\n",
    "#     else:\n",
    "#         label += 'straight_'\n",
    "#     label += str(idx)\n",
    "\n",
    "#     # Plot the middle points of the road\n",
    "#     ax.plot(x_values, y_values, color=color, label=label)\n",
    "\n",
    "ax.set(xlabel='x', ylabel='y')\n",
    "ax.legend()\n",
    "plt.show()"
   ]
  },
  {
   "cell_type": "code",
   "execution_count": null,
   "metadata": {},
   "outputs": [],
   "source": []
  },
  {
   "cell_type": "code",
   "execution_count": null,
   "metadata": {},
   "outputs": [],
   "source": []
  }
 ],
 "metadata": {
  "kernelspec": {
   "display_name": "Python 3",
   "language": "python",
   "name": "python3"
  },
  "language_info": {
   "codemirror_mode": {
    "name": "ipython",
    "version": 3
   },
   "file_extension": ".py",
   "mimetype": "text/x-python",
   "name": "python",
   "nbconvert_exporter": "python",
   "pygments_lexer": "ipython3",
   "version": "3.12.2"
  }
 },
 "nbformat": 4,
 "nbformat_minor": 2
}
