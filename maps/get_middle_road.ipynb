{
 "cells": [
  {
   "cell_type": "code",
   "execution_count": 1,
   "metadata": {},
   "outputs": [],
   "source": [
    "import matplotlib.pyplot as plt\n",
    "import pandas as pd\n",
    "import csv\n",
    "import math"
   ]
  },
  {
   "cell_type": "code",
   "execution_count": 17,
   "metadata": {},
   "outputs": [],
   "source": [
    "left_side_road_coordinates = pd.read_csv('RL_map_training/road_left.csv')\n",
    "right_side_road_coordinates = pd.read_csv('RL_map_training/road_right.csv')"
   ]
  },
  {
   "cell_type": "code",
   "execution_count": 18,
   "metadata": {},
   "outputs": [],
   "source": [
    "right_side_list_coordinates = list(zip(right_side_road_coordinates.x_values, right_side_road_coordinates.y_values))\n",
    "left_side_list_coordinates = list(zip(left_side_road_coordinates.x_values, left_side_road_coordinates.y_values))\n"
   ]
  },
  {
   "cell_type": "code",
   "execution_count": 19,
   "metadata": {},
   "outputs": [],
   "source": [
    "def get_middle_point(coordinates: tuple, list_coordinates: list[tuple]):\n",
    "    min_distance = 100000\n",
    "    closest_point = None\n",
    "\n",
    "    for temp_coordinates in list_coordinates:\n",
    "        distance = ((coordinates[0] - temp_coordinates[0]) ** 2 + (coordinates[1] - temp_coordinates[1]) ** 2) ** 0.5\n",
    "        if distance < min_distance:\n",
    "            min_distance = distance\n",
    "            closest_point = temp_coordinates\n",
    "\n",
    "            # get midlle of coordinates and closest point\n",
    "            x_middle = (coordinates[0] + closest_point[0]) / 2\n",
    "            y_middle = (coordinates[1] + closest_point[1]) / 2\n",
    "            middle_point = (x_middle, y_middle)\n",
    "\n",
    "\n",
    "    return middle_point"
   ]
  },
  {
   "cell_type": "code",
   "execution_count": 20,
   "metadata": {},
   "outputs": [],
   "source": [
    "middle_side_list_coordinates = []\n",
    "\n",
    "for points in left_side_list_coordinates:\n",
    "    middle_point = get_middle_point(points, right_side_list_coordinates)\n",
    "    middle_side_list_coordinates.append(middle_point)\n",
    "\n",
    "with open('RL_map_training/road_middle.csv', 'w', newline='') as file:\n",
    "    writer = csv.writer(file)\n",
    "    writer.writerow(['x_values', 'y_values'])\n",
    "    writer.writerows(middle_side_list_coordinates)"
   ]
  },
  {
   "cell_type": "code",
   "execution_count": 21,
   "metadata": {},
   "outputs": [
    {
     "name": "stdout",
     "output_type": "stream",
     "text": [
      "4558\n",
      "4558\n"
     ]
    },
    {
     "name": "stderr",
     "output_type": "stream",
     "text": [
      "C:\\Users\\boulanger\\AppData\\Local\\Temp\\ipykernel_15480\\1666993261.py:5: SettingWithCopyWarning: \n",
      "A value is trying to be set on a copy of a slice from a DataFrame.\n",
      "Try using .loc[row_indexer,col_indexer] = value instead\n",
      "\n",
      "See the caveats in the documentation: https://pandas.pydata.org/pandas-docs/stable/user_guide/indexing.html#returning-a-view-versus-a-copy\n",
      "  df_modified.y_values = 560.0\n"
     ]
    }
   ],
   "source": [
    "#remove error line in the beginning of the track\n",
    "df = pd.read_csv('RL_map_training/road_middle.csv')\n",
    "print(len(df))\n",
    "df_modified = df.iloc[16:260]\n",
    "df_modified.y_values = 560.0\n",
    "\n",
    "df_final = pd.concat([df.iloc[:16], df_modified, df.iloc[260:]])\n",
    "print(len(df_final))\n",
    "df_final.to_csv('RL_map_training/road_middle.csv', index=False)\n"
   ]
  },
  {
   "cell_type": "code",
   "execution_count": 2,
   "metadata": {},
   "outputs": [],
   "source": [
    "#create a dictionary .json file\n",
    "# road_section\n",
    "## next_turn\n",
    "## direction_turn\n",
    "## list_middle_points\n",
    "\n",
    "import json\n",
    "\n",
    "df = pd.read_csv('RL_map_training/road_middle.csv')\n",
    "list_coordinates = list(zip(df.x_values, df.y_values))\n",
    "\n",
    "road_section_locations = [\n",
    "    [484.0, 560.0],\n",
    "    [528.1, 444.6],\n",
    "    [478.3, 400.5],\n",
    "    [430.7, 453.4],\n",
    "    [386.7, 496.1],\n",
    "    [335.5, 382.1],\n",
    "    [548.3, 336.4],\n",
    "    [591.6, 387.2]\n",
    "]\n",
    "\n",
    "next_section_location = road_section_locations[0]\n",
    "min_distance = 1000\n",
    "\n",
    "for point in list_coordinates[1:]:\n",
    "\n",
    "    distance = math.sqrt((next_section_location[0] - point[0])**2 + (next_section_location[1] - point[1])**2)\n",
    "\n",
    "    # If the distance is more than 1.5 times the minimum distance, we can stop searching\n",
    "    # because we reach the closest point and we are now going away from it\n",
    "    if distance > 1.5 * min_distance:\n",
    "        break\n",
    "\n",
    "    if distance < min_distance:\n",
    "        min_distance = distance\n",
    "\n",
    "    previous_point = point\n",
    "\n",
    "road_section = {\n",
    "    'next_turn_point': [484.0, 560.0],\n",
    "    'direction_turn': [1]\n",
    "    # 'list_middle_points': [],\n",
    "}\n",
    "\n",
    "with open(\"RL_map_training/dict.json\", \"w\") as file: \n",
    "    json.dump(road_section, file)\n"
   ]
  },
  {
   "cell_type": "code",
   "execution_count": 30,
   "metadata": {},
   "outputs": [],
   "source": [
    "def get_angle_from_two_points(point, previous_point):\n",
    "    return math.atan2(point[0] - previous_point[0], point[1] - previous_point[1])"
   ]
  },
  {
   "cell_type": "code",
   "execution_count": 31,
   "metadata": {},
   "outputs": [],
   "source": [
    "def grouper(list_points_angles, n):\n",
    "\n",
    "    final_liste = []\n",
    "    mean = 0\n",
    "\n",
    "    for idx, point_angle in enumerate(list_points_angles):\n",
    "        if idx % (n) == (n-1):\n",
    "            mean += point_angle[1]/n\n",
    "            final_liste.append((point_angle[0], mean))\n",
    "            mean = 0\n",
    "        else:\n",
    "            mean += point_angle[1]/n\n",
    "\n",
    "\n",
    "    return final_liste"
   ]
  },
  {
   "cell_type": "code",
   "execution_count": 62,
   "metadata": {},
   "outputs": [
    {
     "name": "stdout",
     "output_type": "stream",
     "text": [
      "0.18618459390037123\n",
      "0.18626101842854226\n",
      "0.18634012631097185\n",
      "0.1856092099564064\n",
      "0.18485727273491825\n",
      "0.18685565051520348\n",
      "0.18366408844345505\n",
      "0.18548680803387052\n",
      "0.1863688769755827\n",
      "0.186421723488718\n",
      "0.1853597672630758\n",
      "0.18513518673535012\n",
      "0.18538160576971974\n",
      "0.1884737706657622\n",
      "0.1839181908992238\n",
      "0.18573965146390758\n",
      "0.18476615707947008\n",
      "0.18611294371688947\n",
      "0.18604447573985783\n",
      "0.18620188593693465\n",
      "0.18438555726734845\n",
      "0.1836340884525396\n",
      "0.1780563286275775\n",
      "0.1923015066771835\n",
      "0.1811976592471487\n",
      "0.17370265848420186\n",
      "0.1856405642965271\n",
      "0.19283113226792503\n",
      "0.16595472824048052\n",
      "0.17911572221874694\n",
      "0.1891493786679801\n",
      "0.1958085501504505\n",
      "0.16552290472309017\n",
      "0.16404672034872636\n",
      "0.17561967754985164\n",
      "0.1907578604729533\n",
      "0.17170293453894125\n",
      "0.17910723307130538\n",
      "0.18534126457667843\n",
      "0.18530670215026535\n",
      "0.18628096752119716\n",
      "0.18330839511949204\n"
     ]
    }
   ],
   "source": [
    "# find turn\n",
    "turns_list_x = []\n",
    "turns_list_y = []\n",
    "\n",
    "df = pd.read_csv('RL_map_training/road_middle.csv')\n",
    "list_coordinates = list(zip(df.x_values, df.y_values))\n",
    "\n",
    "\n",
    "list_mean_angles_points = []\n",
    "list_points_angles = []\n",
    "group = 40\n",
    "\n",
    "previous_point = list_coordinates[0]\n",
    "for point in list_coordinates[1:]:\n",
    "\n",
    "    angle = get_angle_from_two_points(point, previous_point)\n",
    "    list_points_angles.append((point, angle))\n",
    "    previous_point = point\n",
    "\n",
    "# print(list_points_angles)\n",
    "\n",
    "list_mean_angles_points = grouper(list_points_angles, group)\n",
    "# print(list_mean_angles_points)\n",
    "\n",
    "previous_mean_angle = list_mean_angles_points[0][1]\n",
    "for point, mean_angle in list_mean_angles_points[1:]:\n",
    "    delta = abs(mean_angle - previous_mean_angle)\n",
    "    if delta > 0.16 and delta < 0.2:\n",
    "\n",
    "        print(abs(abs(mean_angle) - abs(previous_mean_angle)))\n",
    "        turns_list_x.append(point[0])\n",
    "        turns_list_y.append(point[1])\n",
    "    previous_mean_angle = mean_angle\n",
    "\n",
    "# print(turns_list_x)\n",
    "# print(turns_list_y)\n",
    "\n",
    "\n"
   ]
  },
  {
   "cell_type": "code",
   "execution_count": 63,
   "metadata": {},
   "outputs": [
    {
     "data": {
      "image/png": "[encoded data removed]",
      "text/plain": [
       "<Figure size 640x480 with 1 Axes>"
      ]
     },
     "metadata": {},
     "output_type": "display_data"
    }
   ],
   "source": [
    "left_side_road_coordinates = pd.read_csv('RL_map_training/road_left.csv')\n",
    "right_side_road_coordinates = pd.read_csv('RL_map_training/road_right.csv')\n",
    "middle_side_road_coordinates = pd.read_csv('RL_map_training/road_middle.csv')\n",
    "\n",
    "fig, ax = plt.subplots()\n",
    "\n",
    "ax.plot(left_side_road_coordinates.x_values, left_side_road_coordinates.y_values, color='blue', label='left_side')\n",
    "ax.plot(right_side_road_coordinates.x_values, right_side_road_coordinates.y_values, color='red', label='right_side')\n",
    "ax.plot(middle_side_road_coordinates.x_values, middle_side_road_coordinates.y_values, color='orange', label='middle')\n",
    "\n",
    "# print(len(turns_list))\n",
    "# print(turns_list_x)\n",
    "# print(turns_list_y)\n",
    "ax.plot(turns_list_x, turns_list_y, marker='*', ls='none')\n",
    "\n",
    "ax.set(xlabel='x', ylabel='y')\n",
    "ax.legend()\n",
    "plt.show()"
   ]
  },
  {
   "cell_type": "code",
   "execution_count": null,
   "metadata": {},
   "outputs": [],
   "source": []
  },
  {
   "cell_type": "code",
   "execution_count": null,
   "metadata": {},
   "outputs": [],
   "source": []
  }
 ],
 "metadata": {
  "kernelspec": {
   "display_name": "Python 3",
   "language": "python",
   "name": "python3"
  },
  "language_info": {
   "codemirror_mode": {
    "name": "ipython",
    "version": 3
   },
   "file_extension": ".py",
   "mimetype": "text/x-python",
   "name": "python",
   "nbconvert_exporter": "python",
   "pygments_lexer": "ipython3",
   "version": "3.10.1"
  }
 },
 "nbformat": 4,
 "nbformat_minor": 2
}
